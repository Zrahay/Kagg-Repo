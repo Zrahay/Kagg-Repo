{
 "cells": [
  {
   "cell_type": "code",
   "execution_count": 12,
   "id": "07047afb-0c06-4040-96f2-d668e45187cd",
   "metadata": {},
   "outputs": [],
   "source": [
    "import numpy as np\n",
    "import pandas as pd\n",
    "import matplotlib.pyplot as plt\n",
    "import seaborn as sns"
   ]
  },
  {
   "cell_type": "code",
   "execution_count": 13,
   "id": "5ff586d6-a4d6-408e-bfd4-82faa2172bee",
   "metadata": {},
   "outputs": [],
   "source": [
    "df = pd.read_csv(\"train.csv\")\n",
    "df_test = pd.read_csv(\"test.csv\")"
   ]
  },
  {
   "cell_type": "code",
   "execution_count": 14,
   "id": "76f55b9b-4b87-4ef9-b3e4-a44cf0cdb199",
   "metadata": {},
   "outputs": [
    {
     "data": {
      "text/plain": [
       "Index(['id', 'RhythmScore', 'AudioLoudness', 'VocalContent', 'AcousticQuality',\n",
       "       'InstrumentalScore', 'LivePerformanceLikelihood', 'MoodScore',\n",
       "       'TrackDurationMs', 'Energy', 'BeatsPerMinute'],\n",
       "      dtype='object')"
      ]
     },
     "execution_count": 14,
     "metadata": {},
     "output_type": "execute_result"
    }
   ],
   "source": [
    "df.columns"
   ]
  },
  {
   "cell_type": "code",
   "execution_count": 4,
   "id": "c55d6438-b84e-4e64-b983-7c632c716aca",
   "metadata": {},
   "outputs": [],
   "source": [
    " # We have dropped the id column from the dataset"
   ]
  },
  {
   "cell_type": "code",
   "execution_count": 15,
   "id": "7ae1db11-ffdb-4b7f-bc7c-fce3ba5ec0c0",
   "metadata": {},
   "outputs": [],
   "source": [
    "from sklearn.model_selection import train_test_split\n",
    "X = df.iloc[:,:-1]\n",
    "Y = df.iloc[:,-1]\n",
    "X_train, X_test, y_train, y_test = train_test_split(X, Y, test_size = 0.1, random_state = 42)"
   ]
  },
  {
   "cell_type": "code",
   "execution_count": 16,
   "id": "8119714d-3fce-44b0-a3ea-ed1d44b11dc7",
   "metadata": {},
   "outputs": [
    {
     "data": {
      "text/html": [
       "<div>\n",
       "<style scoped>\n",
       "    .dataframe tbody tr th:only-of-type {\n",
       "        vertical-align: middle;\n",
       "    }\n",
       "\n",
       "    .dataframe tbody tr th {\n",
       "        vertical-align: top;\n",
       "    }\n",
       "\n",
       "    .dataframe thead th {\n",
       "        text-align: right;\n",
       "    }\n",
       "</style>\n",
       "<table border=\"1\" class=\"dataframe\">\n",
       "  <thead>\n",
       "    <tr style=\"text-align: right;\">\n",
       "      <th></th>\n",
       "      <th>id</th>\n",
       "      <th>RhythmScore</th>\n",
       "      <th>AudioLoudness</th>\n",
       "      <th>VocalContent</th>\n",
       "      <th>AcousticQuality</th>\n",
       "      <th>InstrumentalScore</th>\n",
       "      <th>LivePerformanceLikelihood</th>\n",
       "      <th>MoodScore</th>\n",
       "      <th>TrackDurationMs</th>\n",
       "      <th>Energy</th>\n",
       "      <th>BeatsPerMinute</th>\n",
       "    </tr>\n",
       "  </thead>\n",
       "  <tbody>\n",
       "    <tr>\n",
       "      <th>0</th>\n",
       "      <td>0</td>\n",
       "      <td>0.60361</td>\n",
       "      <td>-7.636942</td>\n",
       "      <td>0.0235</td>\n",
       "      <td>0.000005</td>\n",
       "      <td>0.000001</td>\n",
       "      <td>0.051385</td>\n",
       "      <td>0.409866</td>\n",
       "      <td>290715.645</td>\n",
       "      <td>0.826267</td>\n",
       "      <td>147.5302</td>\n",
       "    </tr>\n",
       "  </tbody>\n",
       "</table>\n",
       "</div>"
      ],
      "text/plain": [
       "   id  RhythmScore  AudioLoudness  VocalContent  AcousticQuality  \\\n",
       "0   0      0.60361      -7.636942        0.0235         0.000005   \n",
       "\n",
       "   InstrumentalScore  LivePerformanceLikelihood  MoodScore  TrackDurationMs  \\\n",
       "0           0.000001                   0.051385   0.409866       290715.645   \n",
       "\n",
       "     Energy  BeatsPerMinute  \n",
       "0  0.826267        147.5302  "
      ]
     },
     "execution_count": 16,
     "metadata": {},
     "output_type": "execute_result"
    }
   ],
   "source": [
    "df.head(1)"
   ]
  },
  {
   "cell_type": "code",
   "execution_count": 17,
   "id": "ae0f7e15-6b38-44c0-b65a-7d2b814ab878",
   "metadata": {},
   "outputs": [],
   "source": [
    "def scale_with_names(XTrain, XTest, scaler = None):\n",
    "    if scaler is None:\n",
    "        from sklearn.preprocessing import MinMaxScaler\n",
    "        scaler = MinMaxScaler()\n",
    "    arr1 = scaler.fit_transform(XTrain)\n",
    "    XTrain = pd.DataFrame(arr1, columns = XTrain.columns, index = XTrain.index)\n",
    "    arr2 = scaler.transform(XTest)\n",
    "    XTest = pd.DataFrame(arr2, columns = XTest.columns, index = XTest.index)\n",
    "    return XTrain, XTest\n",
    "    \n"
   ]
  },
  {
   "cell_type": "code",
   "execution_count": 18,
   "id": "046ef0f3-4986-4e38-953b-471b679e86ca",
   "metadata": {},
   "outputs": [],
   "source": [
    "# Now we can just perform Min Max Scaling on the TrackDuration Column\n",
    "\n",
    "df_new = X_train[['TrackDurationMs']]\n",
    "df_new_test = df_test[['TrackDurationMs']]\n",
    "\n",
    "df_new, df_new_test = scale_with_names(df_new, df_new_test)\n",
    "\n",
    "X_train['TrackDurationMs'] = df_new['TrackDurationMs']\n",
    "df_test['TrackDurationMs'] = df_new_test['TrackDurationMs']\n",
    "\n",
    "\n",
    "\n"
   ]
  },
  {
   "cell_type": "code",
   "execution_count": 10,
   "id": "4629d563-4460-4282-ac5d-a421e7ad91fc",
   "metadata": {},
   "outputs": [
    {
     "name": "stdout",
     "output_type": "stream",
     "text": [
      "RMSE :  699.0820980359874\n",
      "MAPE:  0.19807660772449792\n"
     ]
    }
   ],
   "source": [
    "# Now we need to decide upon the Model that we are supposed to use\n",
    "\"\"\"\n",
    "We can go for many Regression Models, Lasso, Ridge and even Linear.\n",
    "We will go through them all evaluating the model on the basis of the Loss function defined in the contest\n",
    "and evaluate the model finally using RandomForestRegressor as well\n",
    "\"\"\"\n",
    "\n",
    "# Let's first use Ridge Regression\n",
    "\n",
    "from sklearn.metrics import mean_squared_error\n",
    "\n",
    "from sklearn.metrics import mean_absolute_percentage_error\n",
    "\n",
    "\n",
    "from sklearn.linear_model import Ridge\n",
    "model = Ridge()\n",
    "model.fit(X_train, y_train)\n",
    "y_pred = model.predict(X_test)\n",
    "\n",
    "rmse = mean_squared_error(y_test, y_pred)\n",
    "\n",
    "print(\"RMSE : \", rmse)\n",
    "\n",
    "mape = mean_absolute_percentage_error(y_test, y_pred)\n",
    "\n",
    "print(\"MAPE: \", mape)\n",
    "\n",
    "\n",
    "\n"
   ]
  },
  {
   "cell_type": "code",
   "execution_count": 34,
   "id": "cea26d8c-02a1-4db5-8770-46e9fe6f6108",
   "metadata": {},
   "outputs": [],
   "source": [
    "from sklearn.linear_model import Ridge\n",
    "from sklearn.linear_model import Lasso\n",
    "from sklearn.ensemble import RandomForestRegressor\n",
    "\n",
    "model  = Ridge()\n",
    "model2 = Lasso()\n",
    "model3 = RandomForestRegressor()\n",
    "\n",
    "model3.fit(X_train, y_train)\n",
    "y_pred = model3.predict(df_test)\n",
    "\n"
   ]
  },
  {
   "cell_type": "code",
   "execution_count": 35,
   "id": "2987eeb8-c0d8-4ba0-8892-683cf9eb0957",
   "metadata": {},
   "outputs": [],
   "source": [
    "submission = pd.read_csv(\"sample_submission.csv\")\n",
    "submission[\"BeatsPerMinute\"] = y_pred"
   ]
  },
  {
   "cell_type": "code",
   "execution_count": 36,
   "id": "7dd37838-cc12-4219-be10-07e60fc93ed7",
   "metadata": {},
   "outputs": [],
   "source": [
    "submission.to_csv(\"RandomForest_submission.csv\", index = False)"
   ]
  },
  {
   "cell_type": "code",
   "execution_count": null,
   "id": "265b340d-cc00-40a1-8628-96236a6b54df",
   "metadata": {},
   "outputs": [],
   "source": []
  }
 ],
 "metadata": {
  "kernelspec": {
   "display_name": "Python 3 (ipykernel)",
   "language": "python",
   "name": "python3"
  },
  "language_info": {
   "codemirror_mode": {
    "name": "ipython",
    "version": 3
   },
   "file_extension": ".py",
   "mimetype": "text/x-python",
   "name": "python",
   "nbconvert_exporter": "python",
   "pygments_lexer": "ipython3",
   "version": "3.12.7"
  }
 },
 "nbformat": 4,
 "nbformat_minor": 5
}
