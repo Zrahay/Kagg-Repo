{
 "cells": [
  {
   "cell_type": "code",
   "execution_count": 1,
   "id": "e101be8e-0810-4935-93f2-81e448c623ae",
   "metadata": {},
   "outputs": [],
   "source": [
    "import pandas as pd\n",
    "import matplotlib.pyplot as plt\n",
    "import seaborn as sns"
   ]
  },
  {
   "cell_type": "code",
   "execution_count": 2,
   "id": "b14cbb27-8edf-407b-b0af-2511cb60455c",
   "metadata": {},
   "outputs": [],
   "source": [
    "df = pd.read_csv(\"train.csv\")"
   ]
  },
  {
   "cell_type": "code",
   "execution_count": 3,
   "id": "cd771fab-36bd-4758-9cc1-e757881cb1ac",
   "metadata": {},
   "outputs": [
    {
     "name": "stdout",
     "output_type": "stream",
     "text": [
      "Index(['id', 'RhythmScore', 'AudioLoudness', 'VocalContent', 'AcousticQuality',\n",
      "       'InstrumentalScore', 'LivePerformanceLikelihood', 'MoodScore',\n",
      "       'TrackDurationMs', 'Energy', 'BeatsPerMinute'],\n",
      "      dtype='object')\n"
     ]
    },
    {
     "data": {
      "text/html": [
       "<div>\n",
       "<style scoped>\n",
       "    .dataframe tbody tr th:only-of-type {\n",
       "        vertical-align: middle;\n",
       "    }\n",
       "\n",
       "    .dataframe tbody tr th {\n",
       "        vertical-align: top;\n",
       "    }\n",
       "\n",
       "    .dataframe thead th {\n",
       "        text-align: right;\n",
       "    }\n",
       "</style>\n",
       "<table border=\"1\" class=\"dataframe\">\n",
       "  <thead>\n",
       "    <tr style=\"text-align: right;\">\n",
       "      <th></th>\n",
       "      <th>RhythmScore</th>\n",
       "      <th>AudioLoudness</th>\n",
       "      <th>VocalContent</th>\n",
       "      <th>AcousticQuality</th>\n",
       "      <th>InstrumentalScore</th>\n",
       "      <th>LivePerformanceLikelihood</th>\n",
       "      <th>MoodScore</th>\n",
       "      <th>TrackDurationMs</th>\n",
       "      <th>Energy</th>\n",
       "      <th>BeatsPerMinute</th>\n",
       "    </tr>\n",
       "  </thead>\n",
       "  <tbody>\n",
       "    <tr>\n",
       "      <th>0</th>\n",
       "      <td>0.603610</td>\n",
       "      <td>-7.636942</td>\n",
       "      <td>0.023500</td>\n",
       "      <td>0.000005</td>\n",
       "      <td>0.000001</td>\n",
       "      <td>0.051385</td>\n",
       "      <td>0.409866</td>\n",
       "      <td>290715.6450</td>\n",
       "      <td>0.826267</td>\n",
       "      <td>147.53020</td>\n",
       "    </tr>\n",
       "    <tr>\n",
       "      <th>1</th>\n",
       "      <td>0.639451</td>\n",
       "      <td>-16.267598</td>\n",
       "      <td>0.071520</td>\n",
       "      <td>0.444929</td>\n",
       "      <td>0.349414</td>\n",
       "      <td>0.170522</td>\n",
       "      <td>0.651010</td>\n",
       "      <td>164519.5174</td>\n",
       "      <td>0.145400</td>\n",
       "      <td>136.15963</td>\n",
       "    </tr>\n",
       "    <tr>\n",
       "      <th>2</th>\n",
       "      <td>0.514538</td>\n",
       "      <td>-15.953575</td>\n",
       "      <td>0.110715</td>\n",
       "      <td>0.173699</td>\n",
       "      <td>0.453814</td>\n",
       "      <td>0.029576</td>\n",
       "      <td>0.423865</td>\n",
       "      <td>174495.5667</td>\n",
       "      <td>0.624667</td>\n",
       "      <td>55.31989</td>\n",
       "    </tr>\n",
       "    <tr>\n",
       "      <th>3</th>\n",
       "      <td>0.734463</td>\n",
       "      <td>-1.357000</td>\n",
       "      <td>0.052965</td>\n",
       "      <td>0.001651</td>\n",
       "      <td>0.159717</td>\n",
       "      <td>0.086366</td>\n",
       "      <td>0.278745</td>\n",
       "      <td>225567.4651</td>\n",
       "      <td>0.487467</td>\n",
       "      <td>147.91212</td>\n",
       "    </tr>\n",
       "    <tr>\n",
       "      <th>4</th>\n",
       "      <td>0.532968</td>\n",
       "      <td>-13.056437</td>\n",
       "      <td>0.023500</td>\n",
       "      <td>0.068687</td>\n",
       "      <td>0.000001</td>\n",
       "      <td>0.331345</td>\n",
       "      <td>0.477769</td>\n",
       "      <td>213960.6789</td>\n",
       "      <td>0.947333</td>\n",
       "      <td>89.58511</td>\n",
       "    </tr>\n",
       "    <tr>\n",
       "      <th>...</th>\n",
       "      <td>...</td>\n",
       "      <td>...</td>\n",
       "      <td>...</td>\n",
       "      <td>...</td>\n",
       "      <td>...</td>\n",
       "      <td>...</td>\n",
       "      <td>...</td>\n",
       "      <td>...</td>\n",
       "      <td>...</td>\n",
       "      <td>...</td>\n",
       "    </tr>\n",
       "    <tr>\n",
       "      <th>524159</th>\n",
       "      <td>0.796831</td>\n",
       "      <td>-13.405645</td>\n",
       "      <td>0.023500</td>\n",
       "      <td>0.504738</td>\n",
       "      <td>0.000001</td>\n",
       "      <td>0.191414</td>\n",
       "      <td>0.668079</td>\n",
       "      <td>135528.3189</td>\n",
       "      <td>0.004400</td>\n",
       "      <td>117.83118</td>\n",
       "    </tr>\n",
       "    <tr>\n",
       "      <th>524160</th>\n",
       "      <td>0.975000</td>\n",
       "      <td>-12.132914</td>\n",
       "      <td>0.077379</td>\n",
       "      <td>0.069462</td>\n",
       "      <td>0.262320</td>\n",
       "      <td>0.124818</td>\n",
       "      <td>0.288946</td>\n",
       "      <td>240709.3918</td>\n",
       "      <td>0.447067</td>\n",
       "      <td>89.02681</td>\n",
       "    </tr>\n",
       "    <tr>\n",
       "      <th>524161</th>\n",
       "      <td>0.542958</td>\n",
       "      <td>-1.357000</td>\n",
       "      <td>0.071390</td>\n",
       "      <td>0.168978</td>\n",
       "      <td>0.000001</td>\n",
       "      <td>0.313912</td>\n",
       "      <td>0.586868</td>\n",
       "      <td>344858.2321</td>\n",
       "      <td>0.718800</td>\n",
       "      <td>90.75885</td>\n",
       "    </tr>\n",
       "    <tr>\n",
       "      <th>524162</th>\n",
       "      <td>0.637192</td>\n",
       "      <td>-7.411331</td>\n",
       "      <td>0.113086</td>\n",
       "      <td>0.000005</td>\n",
       "      <td>0.061946</td>\n",
       "      <td>0.287963</td>\n",
       "      <td>0.368891</td>\n",
       "      <td>322710.3187</td>\n",
       "      <td>0.944267</td>\n",
       "      <td>140.63235</td>\n",
       "    </tr>\n",
       "    <tr>\n",
       "      <th>524163</th>\n",
       "      <td>0.776515</td>\n",
       "      <td>-5.484091</td>\n",
       "      <td>0.023500</td>\n",
       "      <td>0.271189</td>\n",
       "      <td>0.067338</td>\n",
       "      <td>0.339319</td>\n",
       "      <td>0.793487</td>\n",
       "      <td>313870.0566</td>\n",
       "      <td>0.223933</td>\n",
       "      <td>77.45960</td>\n",
       "    </tr>\n",
       "  </tbody>\n",
       "</table>\n",
       "<p>524164 rows × 10 columns</p>\n",
       "</div>"
      ],
      "text/plain": [
       "        RhythmScore  AudioLoudness  VocalContent  AcousticQuality  \\\n",
       "0          0.603610      -7.636942      0.023500         0.000005   \n",
       "1          0.639451     -16.267598      0.071520         0.444929   \n",
       "2          0.514538     -15.953575      0.110715         0.173699   \n",
       "3          0.734463      -1.357000      0.052965         0.001651   \n",
       "4          0.532968     -13.056437      0.023500         0.068687   \n",
       "...             ...            ...           ...              ...   \n",
       "524159     0.796831     -13.405645      0.023500         0.504738   \n",
       "524160     0.975000     -12.132914      0.077379         0.069462   \n",
       "524161     0.542958      -1.357000      0.071390         0.168978   \n",
       "524162     0.637192      -7.411331      0.113086         0.000005   \n",
       "524163     0.776515      -5.484091      0.023500         0.271189   \n",
       "\n",
       "        InstrumentalScore  LivePerformanceLikelihood  MoodScore  \\\n",
       "0                0.000001                   0.051385   0.409866   \n",
       "1                0.349414                   0.170522   0.651010   \n",
       "2                0.453814                   0.029576   0.423865   \n",
       "3                0.159717                   0.086366   0.278745   \n",
       "4                0.000001                   0.331345   0.477769   \n",
       "...                   ...                        ...        ...   \n",
       "524159           0.000001                   0.191414   0.668079   \n",
       "524160           0.262320                   0.124818   0.288946   \n",
       "524161           0.000001                   0.313912   0.586868   \n",
       "524162           0.061946                   0.287963   0.368891   \n",
       "524163           0.067338                   0.339319   0.793487   \n",
       "\n",
       "        TrackDurationMs    Energy  BeatsPerMinute  \n",
       "0           290715.6450  0.826267       147.53020  \n",
       "1           164519.5174  0.145400       136.15963  \n",
       "2           174495.5667  0.624667        55.31989  \n",
       "3           225567.4651  0.487467       147.91212  \n",
       "4           213960.6789  0.947333        89.58511  \n",
       "...                 ...       ...             ...  \n",
       "524159      135528.3189  0.004400       117.83118  \n",
       "524160      240709.3918  0.447067        89.02681  \n",
       "524161      344858.2321  0.718800        90.75885  \n",
       "524162      322710.3187  0.944267       140.63235  \n",
       "524163      313870.0566  0.223933        77.45960  \n",
       "\n",
       "[524164 rows x 10 columns]"
      ]
     },
     "execution_count": 3,
     "metadata": {},
     "output_type": "execute_result"
    }
   ],
   "source": [
    "print(df.columns)\n",
    "df.drop(columns=['id'])"
   ]
  },
  {
   "cell_type": "code",
   "execution_count": 4,
   "id": "8431eace-d128-4c64-8ebd-0d99a283f7e9",
   "metadata": {},
   "outputs": [],
   "source": [
    "from sklearn.model_selection import train_test_split"
   ]
  },
  {
   "cell_type": "code",
   "execution_count": 5,
   "id": "62fad388-b8c7-4ffa-8ddb-dd958a6e94f0",
   "metadata": {},
   "outputs": [],
   "source": [
    "X = df.iloc[:,:-1]\n",
    "Y = df.iloc[:,:-1]"
   ]
  },
  {
   "cell_type": "code",
   "execution_count": 6,
   "id": "c3ed44ab-ed41-49be-bbbe-050db17f1733",
   "metadata": {},
   "outputs": [],
   "source": [
    "X_train, X_test, y_train, y_test = train_test_split(X,Y, test_size = 0.2, random_state = 42)"
   ]
  },
  {
   "cell_type": "code",
   "execution_count": 7,
   "id": "4e76fbda-16aa-4b64-8377-bf50e2e38c12",
   "metadata": {},
   "outputs": [
    {
     "data": {
      "text/html": [
       "<div>\n",
       "<style scoped>\n",
       "    .dataframe tbody tr th:only-of-type {\n",
       "        vertical-align: middle;\n",
       "    }\n",
       "\n",
       "    .dataframe tbody tr th {\n",
       "        vertical-align: top;\n",
       "    }\n",
       "\n",
       "    .dataframe thead th {\n",
       "        text-align: right;\n",
       "    }\n",
       "</style>\n",
       "<table border=\"1\" class=\"dataframe\">\n",
       "  <thead>\n",
       "    <tr style=\"text-align: right;\">\n",
       "      <th></th>\n",
       "      <th>RhythmScore</th>\n",
       "      <th>AudioLoudness</th>\n",
       "      <th>VocalContent</th>\n",
       "      <th>AcousticQuality</th>\n",
       "      <th>InstrumentalScore</th>\n",
       "      <th>LivePerformanceLikelihood</th>\n",
       "      <th>MoodScore</th>\n",
       "      <th>TrackDurationMs</th>\n",
       "      <th>Energy</th>\n",
       "    </tr>\n",
       "  </thead>\n",
       "  <tbody>\n",
       "    <tr>\n",
       "      <th>129122</th>\n",
       "      <td>0.781405</td>\n",
       "      <td>-4.356901</td>\n",
       "      <td>0.023500</td>\n",
       "      <td>0.000005</td>\n",
       "      <td>0.000001</td>\n",
       "      <td>0.040420</td>\n",
       "      <td>0.682512</td>\n",
       "      <td>241538.2567</td>\n",
       "      <td>0.541800</td>\n",
       "    </tr>\n",
       "    <tr>\n",
       "      <th>493077</th>\n",
       "      <td>0.532378</td>\n",
       "      <td>-8.908300</td>\n",
       "      <td>0.023500</td>\n",
       "      <td>0.012917</td>\n",
       "      <td>0.032240</td>\n",
       "      <td>0.076140</td>\n",
       "      <td>0.483868</td>\n",
       "      <td>180583.7425</td>\n",
       "      <td>0.994667</td>\n",
       "    </tr>\n",
       "    <tr>\n",
       "      <th>457814</th>\n",
       "      <td>0.912855</td>\n",
       "      <td>-14.355710</td>\n",
       "      <td>0.120433</td>\n",
       "      <td>0.372479</td>\n",
       "      <td>0.127346</td>\n",
       "      <td>0.024300</td>\n",
       "      <td>0.440126</td>\n",
       "      <td>291223.4702</td>\n",
       "      <td>0.566267</td>\n",
       "    </tr>\n",
       "    <tr>\n",
       "      <th>411024</th>\n",
       "      <td>0.471765</td>\n",
       "      <td>-5.637425</td>\n",
       "      <td>0.043413</td>\n",
       "      <td>0.504548</td>\n",
       "      <td>0.162065</td>\n",
       "      <td>0.065687</td>\n",
       "      <td>0.485008</td>\n",
       "      <td>313870.0566</td>\n",
       "      <td>0.492067</td>\n",
       "    </tr>\n",
       "    <tr>\n",
       "      <th>397112</th>\n",
       "      <td>0.975000</td>\n",
       "      <td>-11.681864</td>\n",
       "      <td>0.031886</td>\n",
       "      <td>0.086502</td>\n",
       "      <td>0.000001</td>\n",
       "      <td>0.308907</td>\n",
       "      <td>0.682415</td>\n",
       "      <td>243435.6405</td>\n",
       "      <td>0.453667</td>\n",
       "    </tr>\n",
       "    <tr>\n",
       "      <th>...</th>\n",
       "      <td>...</td>\n",
       "      <td>...</td>\n",
       "      <td>...</td>\n",
       "      <td>...</td>\n",
       "      <td>...</td>\n",
       "      <td>...</td>\n",
       "      <td>...</td>\n",
       "      <td>...</td>\n",
       "      <td>...</td>\n",
       "    </tr>\n",
       "    <tr>\n",
       "      <th>259178</th>\n",
       "      <td>0.683068</td>\n",
       "      <td>-3.998962</td>\n",
       "      <td>0.023500</td>\n",
       "      <td>0.309681</td>\n",
       "      <td>0.389897</td>\n",
       "      <td>0.243051</td>\n",
       "      <td>0.734752</td>\n",
       "      <td>223320.0386</td>\n",
       "      <td>0.295467</td>\n",
       "    </tr>\n",
       "    <tr>\n",
       "      <th>365838</th>\n",
       "      <td>0.723214</td>\n",
       "      <td>-1.357000</td>\n",
       "      <td>0.139675</td>\n",
       "      <td>0.726960</td>\n",
       "      <td>0.258900</td>\n",
       "      <td>0.296822</td>\n",
       "      <td>0.929107</td>\n",
       "      <td>316878.0301</td>\n",
       "      <td>0.087733</td>\n",
       "    </tr>\n",
       "    <tr>\n",
       "      <th>131932</th>\n",
       "      <td>0.553987</td>\n",
       "      <td>-11.086472</td>\n",
       "      <td>0.051913</td>\n",
       "      <td>0.000005</td>\n",
       "      <td>0.051336</td>\n",
       "      <td>0.262526</td>\n",
       "      <td>0.534394</td>\n",
       "      <td>235567.5310</td>\n",
       "      <td>0.761400</td>\n",
       "    </tr>\n",
       "    <tr>\n",
       "      <th>146867</th>\n",
       "      <td>0.975000</td>\n",
       "      <td>-16.016737</td>\n",
       "      <td>0.070721</td>\n",
       "      <td>0.226696</td>\n",
       "      <td>0.000001</td>\n",
       "      <td>0.172801</td>\n",
       "      <td>0.959661</td>\n",
       "      <td>264160.7161</td>\n",
       "      <td>0.073467</td>\n",
       "    </tr>\n",
       "    <tr>\n",
       "      <th>121958</th>\n",
       "      <td>0.563534</td>\n",
       "      <td>-18.438914</td>\n",
       "      <td>0.052471</td>\n",
       "      <td>0.172938</td>\n",
       "      <td>0.000001</td>\n",
       "      <td>0.295799</td>\n",
       "      <td>0.372578</td>\n",
       "      <td>299297.9760</td>\n",
       "      <td>0.389867</td>\n",
       "    </tr>\n",
       "  </tbody>\n",
       "</table>\n",
       "<p>419331 rows × 9 columns</p>\n",
       "</div>"
      ],
      "text/plain": [
       "        RhythmScore  AudioLoudness  VocalContent  AcousticQuality  \\\n",
       "129122     0.781405      -4.356901      0.023500         0.000005   \n",
       "493077     0.532378      -8.908300      0.023500         0.012917   \n",
       "457814     0.912855     -14.355710      0.120433         0.372479   \n",
       "411024     0.471765      -5.637425      0.043413         0.504548   \n",
       "397112     0.975000     -11.681864      0.031886         0.086502   \n",
       "...             ...            ...           ...              ...   \n",
       "259178     0.683068      -3.998962      0.023500         0.309681   \n",
       "365838     0.723214      -1.357000      0.139675         0.726960   \n",
       "131932     0.553987     -11.086472      0.051913         0.000005   \n",
       "146867     0.975000     -16.016737      0.070721         0.226696   \n",
       "121958     0.563534     -18.438914      0.052471         0.172938   \n",
       "\n",
       "        InstrumentalScore  LivePerformanceLikelihood  MoodScore  \\\n",
       "129122           0.000001                   0.040420   0.682512   \n",
       "493077           0.032240                   0.076140   0.483868   \n",
       "457814           0.127346                   0.024300   0.440126   \n",
       "411024           0.162065                   0.065687   0.485008   \n",
       "397112           0.000001                   0.308907   0.682415   \n",
       "...                   ...                        ...        ...   \n",
       "259178           0.389897                   0.243051   0.734752   \n",
       "365838           0.258900                   0.296822   0.929107   \n",
       "131932           0.051336                   0.262526   0.534394   \n",
       "146867           0.000001                   0.172801   0.959661   \n",
       "121958           0.000001                   0.295799   0.372578   \n",
       "\n",
       "        TrackDurationMs    Energy  \n",
       "129122      241538.2567  0.541800  \n",
       "493077      180583.7425  0.994667  \n",
       "457814      291223.4702  0.566267  \n",
       "411024      313870.0566  0.492067  \n",
       "397112      243435.6405  0.453667  \n",
       "...                 ...       ...  \n",
       "259178      223320.0386  0.295467  \n",
       "365838      316878.0301  0.087733  \n",
       "131932      235567.5310  0.761400  \n",
       "146867      264160.7161  0.073467  \n",
       "121958      299297.9760  0.389867  \n",
       "\n",
       "[419331 rows x 9 columns]"
      ]
     },
     "execution_count": 7,
     "metadata": {},
     "output_type": "execute_result"
    }
   ],
   "source": [
    "X_train.drop(columns=['id'])"
   ]
  },
  {
   "cell_type": "code",
   "execution_count": 8,
   "id": "13e9b807-f7c9-4393-b7af-80eb1dc34bf7",
   "metadata": {},
   "outputs": [
    {
     "data": {
      "text/plain": [
       "((array([-4.69663918, -4.51207189, -4.41214106, ...,  4.41214106,\n",
       "          4.51207189,  4.69663918]),\n",
       "  array([-27.50972513, -27.50972513, -27.42871333, ...,  -1.357     ,\n",
       "          -1.357     ,  -1.357     ])),\n",
       " (4.553134230358868, -8.379014375027166, 0.9863252177760369))"
      ]
     },
     "execution_count": 8,
     "metadata": {},
     "output_type": "execute_result"
    },
    {
     "data": {
      "image/png": "[encoded data removed]",
      "text/plain": [
       "<Figure size 640x480 with 1 Axes>"
      ]
     },
     "metadata": {},
     "output_type": "display_data"
    }
   ],
   "source": [
    "# Now we make a Q - Q plot on the AudioLoudness Column to check if it follow the Gaussian Distribution or not\n",
    "\n",
    "# Then we will do the same for TrackDurationMs\n",
    "\n",
    "from scipy import stats\n",
    "stats.probplot(df['AudioLoudness'], dist  = \"norm\", plot = plt)\n",
    "\n"
   ]
  },
  {
   "cell_type": "code",
   "execution_count": 9,
   "id": "45b64375-0538-4330-b59d-9f762105f732",
   "metadata": {},
   "outputs": [],
   "source": [
    "data = df['AudioLoudness']\n",
    "\n",
    "data = data.to_numpy()"
   ]
  },
  {
   "cell_type": "code",
   "execution_count": 10,
   "id": "98a2b768-e1bb-4ade-bb7d-1c430d52d87b",
   "metadata": {},
   "outputs": [],
   "source": [
    "# We apply Yeo Johnson transform to make the Loudness column become normally distributed and not left skewed\n",
    "\n",
    "\n",
    "from sklearn.preprocessing import PowerTransformer\n",
    "\n",
    "method = PowerTransformer(method = \"yeo-johnson\")"
   ]
  },
  {
   "cell_type": "code",
   "execution_count": 11,
   "id": "237c5d60-0f3c-4425-b2ac-55cc05810278",
   "metadata": {},
   "outputs": [],
   "source": [
    "\n",
    "\n",
    "feature = df[['AudioLoudness']]\n",
    "\n",
    "X_train_array = method.fit_transform(feature)\n",
    "X_test_array = method.transform(feature)"
   ]
  },
  {
   "cell_type": "code",
   "execution_count": 12,
   "id": "43c35531-f0a9-41a6-bf09-78f20df00161",
   "metadata": {},
   "outputs": [],
   "source": [
    "X_train_array = pd.DataFrame(X_train_array)"
   ]
  },
  {
   "cell_type": "code",
   "execution_count": 13,
   "id": "a71d83db-1b1a-4b8f-a385-cf3ffc22d3a4",
   "metadata": {},
   "outputs": [
    {
     "data": {
      "text/html": [
       "<div>\n",
       "<style scoped>\n",
       "    .dataframe tbody tr th:only-of-type {\n",
       "        vertical-align: middle;\n",
       "    }\n",
       "\n",
       "    .dataframe tbody tr th {\n",
       "        vertical-align: top;\n",
       "    }\n",
       "\n",
       "    .dataframe thead th {\n",
       "        text-align: right;\n",
       "    }\n",
       "</style>\n",
       "<table border=\"1\" class=\"dataframe\">\n",
       "  <thead>\n",
       "    <tr style=\"text-align: right;\">\n",
       "      <th></th>\n",
       "      <th>id</th>\n",
       "      <th>RhythmScore</th>\n",
       "      <th>AudioLoudness</th>\n",
       "      <th>VocalContent</th>\n",
       "      <th>AcousticQuality</th>\n",
       "      <th>InstrumentalScore</th>\n",
       "      <th>LivePerformanceLikelihood</th>\n",
       "      <th>MoodScore</th>\n",
       "      <th>TrackDurationMs</th>\n",
       "      <th>Energy</th>\n",
       "      <th>BeatsPerMinute</th>\n",
       "    </tr>\n",
       "  </thead>\n",
       "  <tbody>\n",
       "    <tr>\n",
       "      <th>0</th>\n",
       "      <td>0</td>\n",
       "      <td>0.603610</td>\n",
       "      <td>-7.636942</td>\n",
       "      <td>0.023500</td>\n",
       "      <td>0.000005</td>\n",
       "      <td>0.000001</td>\n",
       "      <td>0.051385</td>\n",
       "      <td>0.409866</td>\n",
       "      <td>290715.6450</td>\n",
       "      <td>0.826267</td>\n",
       "      <td>147.53020</td>\n",
       "    </tr>\n",
       "    <tr>\n",
       "      <th>1</th>\n",
       "      <td>1</td>\n",
       "      <td>0.639451</td>\n",
       "      <td>-16.267598</td>\n",
       "      <td>0.071520</td>\n",
       "      <td>0.444929</td>\n",
       "      <td>0.349414</td>\n",
       "      <td>0.170522</td>\n",
       "      <td>0.651010</td>\n",
       "      <td>164519.5174</td>\n",
       "      <td>0.145400</td>\n",
       "      <td>136.15963</td>\n",
       "    </tr>\n",
       "    <tr>\n",
       "      <th>2</th>\n",
       "      <td>2</td>\n",
       "      <td>0.514538</td>\n",
       "      <td>-15.953575</td>\n",
       "      <td>0.110715</td>\n",
       "      <td>0.173699</td>\n",
       "      <td>0.453814</td>\n",
       "      <td>0.029576</td>\n",
       "      <td>0.423865</td>\n",
       "      <td>174495.5667</td>\n",
       "      <td>0.624667</td>\n",
       "      <td>55.31989</td>\n",
       "    </tr>\n",
       "  </tbody>\n",
       "</table>\n",
       "</div>"
      ],
      "text/plain": [
       "   id  RhythmScore  AudioLoudness  VocalContent  AcousticQuality  \\\n",
       "0   0     0.603610      -7.636942      0.023500         0.000005   \n",
       "1   1     0.639451     -16.267598      0.071520         0.444929   \n",
       "2   2     0.514538     -15.953575      0.110715         0.173699   \n",
       "\n",
       "   InstrumentalScore  LivePerformanceLikelihood  MoodScore  TrackDurationMs  \\\n",
       "0           0.000001                   0.051385   0.409866      290715.6450   \n",
       "1           0.349414                   0.170522   0.651010      164519.5174   \n",
       "2           0.453814                   0.029576   0.423865      174495.5667   \n",
       "\n",
       "     Energy  BeatsPerMinute  \n",
       "0  0.826267       147.53020  \n",
       "1  0.145400       136.15963  \n",
       "2  0.624667        55.31989  "
      ]
     },
     "execution_count": 13,
     "metadata": {},
     "output_type": "execute_result"
    }
   ],
   "source": [
    "df.head(3)"
   ]
  },
  {
   "cell_type": "code",
   "execution_count": 14,
   "id": "52773a6c-4b28-409d-a798-1c2c61f6257c",
   "metadata": {},
   "outputs": [],
   "source": [
    "X_train['AudioLoudness'] = X_train_array"
   ]
  },
  {
   "cell_type": "code",
   "execution_count": 15,
   "id": "7a48c689-a252-4f17-b96c-9f5e76d4e3b8",
   "metadata": {},
   "outputs": [
    {
     "data": {
      "text/html": [
       "<div>\n",
       "<style scoped>\n",
       "    .dataframe tbody tr th:only-of-type {\n",
       "        vertical-align: middle;\n",
       "    }\n",
       "\n",
       "    .dataframe tbody tr th {\n",
       "        vertical-align: top;\n",
       "    }\n",
       "\n",
       "    .dataframe thead th {\n",
       "        text-align: right;\n",
       "    }\n",
       "</style>\n",
       "<table border=\"1\" class=\"dataframe\">\n",
       "  <thead>\n",
       "    <tr style=\"text-align: right;\">\n",
       "      <th></th>\n",
       "      <th>id</th>\n",
       "      <th>RhythmScore</th>\n",
       "      <th>AudioLoudness</th>\n",
       "      <th>VocalContent</th>\n",
       "      <th>AcousticQuality</th>\n",
       "      <th>InstrumentalScore</th>\n",
       "      <th>LivePerformanceLikelihood</th>\n",
       "      <th>MoodScore</th>\n",
       "      <th>TrackDurationMs</th>\n",
       "      <th>Energy</th>\n",
       "    </tr>\n",
       "  </thead>\n",
       "  <tbody>\n",
       "    <tr>\n",
       "      <th>129122</th>\n",
       "      <td>129122</td>\n",
       "      <td>0.781405</td>\n",
       "      <td>0.828897</td>\n",
       "      <td>0.023500</td>\n",
       "      <td>0.000005</td>\n",
       "      <td>0.000001</td>\n",
       "      <td>0.040420</td>\n",
       "      <td>0.682512</td>\n",
       "      <td>241538.2567</td>\n",
       "      <td>0.541800</td>\n",
       "    </tr>\n",
       "    <tr>\n",
       "      <th>493077</th>\n",
       "      <td>493077</td>\n",
       "      <td>0.532378</td>\n",
       "      <td>-0.210203</td>\n",
       "      <td>0.023500</td>\n",
       "      <td>0.012917</td>\n",
       "      <td>0.032240</td>\n",
       "      <td>0.076140</td>\n",
       "      <td>0.483868</td>\n",
       "      <td>180583.7425</td>\n",
       "      <td>0.994667</td>\n",
       "    </tr>\n",
       "    <tr>\n",
       "      <th>457814</th>\n",
       "      <td>457814</td>\n",
       "      <td>0.912855</td>\n",
       "      <td>-1.233246</td>\n",
       "      <td>0.120433</td>\n",
       "      <td>0.372479</td>\n",
       "      <td>0.127346</td>\n",
       "      <td>0.024300</td>\n",
       "      <td>0.440126</td>\n",
       "      <td>291223.4702</td>\n",
       "      <td>0.566267</td>\n",
       "    </tr>\n",
       "    <tr>\n",
       "      <th>411024</th>\n",
       "      <td>411024</td>\n",
       "      <td>0.471765</td>\n",
       "      <td>0.510747</td>\n",
       "      <td>0.043413</td>\n",
       "      <td>0.504548</td>\n",
       "      <td>0.162065</td>\n",
       "      <td>0.065687</td>\n",
       "      <td>0.485008</td>\n",
       "      <td>313870.0566</td>\n",
       "      <td>0.492067</td>\n",
       "    </tr>\n",
       "    <tr>\n",
       "      <th>397112</th>\n",
       "      <td>397112</td>\n",
       "      <td>0.975000</td>\n",
       "      <td>-0.752177</td>\n",
       "      <td>0.031886</td>\n",
       "      <td>0.086502</td>\n",
       "      <td>0.000001</td>\n",
       "      <td>0.308907</td>\n",
       "      <td>0.682415</td>\n",
       "      <td>243435.6405</td>\n",
       "      <td>0.453667</td>\n",
       "    </tr>\n",
       "    <tr>\n",
       "      <th>...</th>\n",
       "      <td>...</td>\n",
       "      <td>...</td>\n",
       "      <td>...</td>\n",
       "      <td>...</td>\n",
       "      <td>...</td>\n",
       "      <td>...</td>\n",
       "      <td>...</td>\n",
       "      <td>...</td>\n",
       "      <td>...</td>\n",
       "      <td>...</td>\n",
       "    </tr>\n",
       "    <tr>\n",
       "      <th>259178</th>\n",
       "      <td>259178</td>\n",
       "      <td>0.683068</td>\n",
       "      <td>0.922847</td>\n",
       "      <td>0.023500</td>\n",
       "      <td>0.309681</td>\n",
       "      <td>0.389897</td>\n",
       "      <td>0.243051</td>\n",
       "      <td>0.734752</td>\n",
       "      <td>223320.0386</td>\n",
       "      <td>0.295467</td>\n",
       "    </tr>\n",
       "    <tr>\n",
       "      <th>365838</th>\n",
       "      <td>365838</td>\n",
       "      <td>0.723214</td>\n",
       "      <td>1.721830</td>\n",
       "      <td>0.139675</td>\n",
       "      <td>0.726960</td>\n",
       "      <td>0.258900</td>\n",
       "      <td>0.296822</td>\n",
       "      <td>0.929107</td>\n",
       "      <td>316878.0301</td>\n",
       "      <td>0.087733</td>\n",
       "    </tr>\n",
       "    <tr>\n",
       "      <th>131932</th>\n",
       "      <td>131932</td>\n",
       "      <td>0.553987</td>\n",
       "      <td>-0.639975</td>\n",
       "      <td>0.051913</td>\n",
       "      <td>0.000005</td>\n",
       "      <td>0.051336</td>\n",
       "      <td>0.262526</td>\n",
       "      <td>0.534394</td>\n",
       "      <td>235567.5310</td>\n",
       "      <td>0.761400</td>\n",
       "    </tr>\n",
       "    <tr>\n",
       "      <th>146867</th>\n",
       "      <td>146867</td>\n",
       "      <td>0.975000</td>\n",
       "      <td>-1.516048</td>\n",
       "      <td>0.070721</td>\n",
       "      <td>0.226696</td>\n",
       "      <td>0.000001</td>\n",
       "      <td>0.172801</td>\n",
       "      <td>0.959661</td>\n",
       "      <td>264160.7161</td>\n",
       "      <td>0.073467</td>\n",
       "    </tr>\n",
       "    <tr>\n",
       "      <th>121958</th>\n",
       "      <td>121958</td>\n",
       "      <td>0.563534</td>\n",
       "      <td>-1.910308</td>\n",
       "      <td>0.052471</td>\n",
       "      <td>0.172938</td>\n",
       "      <td>0.000001</td>\n",
       "      <td>0.295799</td>\n",
       "      <td>0.372578</td>\n",
       "      <td>299297.9760</td>\n",
       "      <td>0.389867</td>\n",
       "    </tr>\n",
       "  </tbody>\n",
       "</table>\n",
       "<p>419331 rows × 10 columns</p>\n",
       "</div>"
      ],
      "text/plain": [
       "            id  RhythmScore  AudioLoudness  VocalContent  AcousticQuality  \\\n",
       "129122  129122     0.781405       0.828897      0.023500         0.000005   \n",
       "493077  493077     0.532378      -0.210203      0.023500         0.012917   \n",
       "457814  457814     0.912855      -1.233246      0.120433         0.372479   \n",
       "411024  411024     0.471765       0.510747      0.043413         0.504548   \n",
       "397112  397112     0.975000      -0.752177      0.031886         0.086502   \n",
       "...        ...          ...            ...           ...              ...   \n",
       "259178  259178     0.683068       0.922847      0.023500         0.309681   \n",
       "365838  365838     0.723214       1.721830      0.139675         0.726960   \n",
       "131932  131932     0.553987      -0.639975      0.051913         0.000005   \n",
       "146867  146867     0.975000      -1.516048      0.070721         0.226696   \n",
       "121958  121958     0.563534      -1.910308      0.052471         0.172938   \n",
       "\n",
       "        InstrumentalScore  LivePerformanceLikelihood  MoodScore  \\\n",
       "129122           0.000001                   0.040420   0.682512   \n",
       "493077           0.032240                   0.076140   0.483868   \n",
       "457814           0.127346                   0.024300   0.440126   \n",
       "411024           0.162065                   0.065687   0.485008   \n",
       "397112           0.000001                   0.308907   0.682415   \n",
       "...                   ...                        ...        ...   \n",
       "259178           0.389897                   0.243051   0.734752   \n",
       "365838           0.258900                   0.296822   0.929107   \n",
       "131932           0.051336                   0.262526   0.534394   \n",
       "146867           0.000001                   0.172801   0.959661   \n",
       "121958           0.000001                   0.295799   0.372578   \n",
       "\n",
       "        TrackDurationMs    Energy  \n",
       "129122      241538.2567  0.541800  \n",
       "493077      180583.7425  0.994667  \n",
       "457814      291223.4702  0.566267  \n",
       "411024      313870.0566  0.492067  \n",
       "397112      243435.6405  0.453667  \n",
       "...                 ...       ...  \n",
       "259178      223320.0386  0.295467  \n",
       "365838      316878.0301  0.087733  \n",
       "131932      235567.5310  0.761400  \n",
       "146867      264160.7161  0.073467  \n",
       "121958      299297.9760  0.389867  \n",
       "\n",
       "[419331 rows x 10 columns]"
      ]
     },
     "execution_count": 15,
     "metadata": {},
     "output_type": "execute_result"
    }
   ],
   "source": [
    "X_train"
   ]
  },
  {
   "cell_type": "code",
   "execution_count": 16,
   "id": "9c276bb2-1467-4a4e-ac8d-9f550c088c48",
   "metadata": {},
   "outputs": [
    {
     "data": {
      "text/plain": [
       "((array([-4.65083335, -4.46452441, -4.36359597, ...,  4.36359597,\n",
       "          4.46452441,  4.65083335]),\n",
       "  array([-3.23337842, -3.23026601, -3.22988696, ...,  1.7218298 ,\n",
       "          1.7218298 ,  1.7218298 ])),\n",
       " (0.9862591043361416, 5.0681824484419076e-05, 0.9862255511387253))"
      ]
     },
     "execution_count": 16,
     "metadata": {},
     "output_type": "execute_result"
    },
    {
     "data": {
      "image/png": "[encoded data removed]",
      "text/plain": [
       "<Figure size 640x480 with 1 Axes>"
      ]
     },
     "metadata": {},
     "output_type": "display_data"
    }
   ],
   "source": [
    "# Now we plot the QQ plot to check the distribution of Loudness Column again\n",
    "stats.probplot(X_train['AudioLoudness'], dist  = \"norm\", plot = plt)"
   ]
  },
  {
   "cell_type": "code",
   "execution_count": 17,
   "id": "9236c8d3-259e-41db-aa2a-ec274648192d",
   "metadata": {},
   "outputs": [
    {
     "data": {
      "text/plain": [
       "-0.3085126709470061"
      ]
     },
     "execution_count": 17,
     "metadata": {},
     "output_type": "execute_result"
    }
   ],
   "source": [
    "skewness = stats.skew(df['AudioLoudness'])\n",
    "\n",
    "skewness"
   ]
  },
  {
   "cell_type": "code",
   "execution_count": 18,
   "id": "e2087a03-4c83-4de1-8b77-c56400bf8ea8",
   "metadata": {},
   "outputs": [],
   "source": [
    "# SHould've done this earlier but now since our Skewness value is pretty low, we shouldn't have transformed it in the first place"
   ]
  },
  {
   "cell_type": "code",
   "execution_count": 19,
   "id": "98319249-a771-4d7b-8e3e-aba37ce996cd",
   "metadata": {},
   "outputs": [],
   "source": [
    "X_train['AudioLoudness'] = df['AudioLoudness']"
   ]
  },
  {
   "cell_type": "code",
   "execution_count": 20,
   "id": "f862e37f-30ff-4ede-ae7f-5978ca30a187",
   "metadata": {},
   "outputs": [
    {
     "data": {
      "text/html": [
       "<div>\n",
       "<style scoped>\n",
       "    .dataframe tbody tr th:only-of-type {\n",
       "        vertical-align: middle;\n",
       "    }\n",
       "\n",
       "    .dataframe tbody tr th {\n",
       "        vertical-align: top;\n",
       "    }\n",
       "\n",
       "    .dataframe thead th {\n",
       "        text-align: right;\n",
       "    }\n",
       "</style>\n",
       "<table border=\"1\" class=\"dataframe\">\n",
       "  <thead>\n",
       "    <tr style=\"text-align: right;\">\n",
       "      <th></th>\n",
       "      <th>id</th>\n",
       "      <th>RhythmScore</th>\n",
       "      <th>AudioLoudness</th>\n",
       "      <th>VocalContent</th>\n",
       "      <th>AcousticQuality</th>\n",
       "      <th>InstrumentalScore</th>\n",
       "      <th>LivePerformanceLikelihood</th>\n",
       "      <th>MoodScore</th>\n",
       "      <th>TrackDurationMs</th>\n",
       "      <th>Energy</th>\n",
       "    </tr>\n",
       "  </thead>\n",
       "  <tbody>\n",
       "    <tr>\n",
       "      <th>129122</th>\n",
       "      <td>129122</td>\n",
       "      <td>0.781405</td>\n",
       "      <td>-4.356901</td>\n",
       "      <td>0.023500</td>\n",
       "      <td>0.000005</td>\n",
       "      <td>0.000001</td>\n",
       "      <td>0.040420</td>\n",
       "      <td>0.682512</td>\n",
       "      <td>241538.2567</td>\n",
       "      <td>0.541800</td>\n",
       "    </tr>\n",
       "    <tr>\n",
       "      <th>493077</th>\n",
       "      <td>493077</td>\n",
       "      <td>0.532378</td>\n",
       "      <td>-8.908300</td>\n",
       "      <td>0.023500</td>\n",
       "      <td>0.012917</td>\n",
       "      <td>0.032240</td>\n",
       "      <td>0.076140</td>\n",
       "      <td>0.483868</td>\n",
       "      <td>180583.7425</td>\n",
       "      <td>0.994667</td>\n",
       "    </tr>\n",
       "    <tr>\n",
       "      <th>457814</th>\n",
       "      <td>457814</td>\n",
       "      <td>0.912855</td>\n",
       "      <td>-14.355710</td>\n",
       "      <td>0.120433</td>\n",
       "      <td>0.372479</td>\n",
       "      <td>0.127346</td>\n",
       "      <td>0.024300</td>\n",
       "      <td>0.440126</td>\n",
       "      <td>291223.4702</td>\n",
       "      <td>0.566267</td>\n",
       "    </tr>\n",
       "    <tr>\n",
       "      <th>411024</th>\n",
       "      <td>411024</td>\n",
       "      <td>0.471765</td>\n",
       "      <td>-5.637425</td>\n",
       "      <td>0.043413</td>\n",
       "      <td>0.504548</td>\n",
       "      <td>0.162065</td>\n",
       "      <td>0.065687</td>\n",
       "      <td>0.485008</td>\n",
       "      <td>313870.0566</td>\n",
       "      <td>0.492067</td>\n",
       "    </tr>\n",
       "    <tr>\n",
       "      <th>397112</th>\n",
       "      <td>397112</td>\n",
       "      <td>0.975000</td>\n",
       "      <td>-11.681864</td>\n",
       "      <td>0.031886</td>\n",
       "      <td>0.086502</td>\n",
       "      <td>0.000001</td>\n",
       "      <td>0.308907</td>\n",
       "      <td>0.682415</td>\n",
       "      <td>243435.6405</td>\n",
       "      <td>0.453667</td>\n",
       "    </tr>\n",
       "    <tr>\n",
       "      <th>...</th>\n",
       "      <td>...</td>\n",
       "      <td>...</td>\n",
       "      <td>...</td>\n",
       "      <td>...</td>\n",
       "      <td>...</td>\n",
       "      <td>...</td>\n",
       "      <td>...</td>\n",
       "      <td>...</td>\n",
       "      <td>...</td>\n",
       "      <td>...</td>\n",
       "    </tr>\n",
       "    <tr>\n",
       "      <th>259178</th>\n",
       "      <td>259178</td>\n",
       "      <td>0.683068</td>\n",
       "      <td>-3.998962</td>\n",
       "      <td>0.023500</td>\n",
       "      <td>0.309681</td>\n",
       "      <td>0.389897</td>\n",
       "      <td>0.243051</td>\n",
       "      <td>0.734752</td>\n",
       "      <td>223320.0386</td>\n",
       "      <td>0.295467</td>\n",
       "    </tr>\n",
       "    <tr>\n",
       "      <th>365838</th>\n",
       "      <td>365838</td>\n",
       "      <td>0.723214</td>\n",
       "      <td>-1.357000</td>\n",
       "      <td>0.139675</td>\n",
       "      <td>0.726960</td>\n",
       "      <td>0.258900</td>\n",
       "      <td>0.296822</td>\n",
       "      <td>0.929107</td>\n",
       "      <td>316878.0301</td>\n",
       "      <td>0.087733</td>\n",
       "    </tr>\n",
       "    <tr>\n",
       "      <th>131932</th>\n",
       "      <td>131932</td>\n",
       "      <td>0.553987</td>\n",
       "      <td>-11.086472</td>\n",
       "      <td>0.051913</td>\n",
       "      <td>0.000005</td>\n",
       "      <td>0.051336</td>\n",
       "      <td>0.262526</td>\n",
       "      <td>0.534394</td>\n",
       "      <td>235567.5310</td>\n",
       "      <td>0.761400</td>\n",
       "    </tr>\n",
       "    <tr>\n",
       "      <th>146867</th>\n",
       "      <td>146867</td>\n",
       "      <td>0.975000</td>\n",
       "      <td>-16.016737</td>\n",
       "      <td>0.070721</td>\n",
       "      <td>0.226696</td>\n",
       "      <td>0.000001</td>\n",
       "      <td>0.172801</td>\n",
       "      <td>0.959661</td>\n",
       "      <td>264160.7161</td>\n",
       "      <td>0.073467</td>\n",
       "    </tr>\n",
       "    <tr>\n",
       "      <th>121958</th>\n",
       "      <td>121958</td>\n",
       "      <td>0.563534</td>\n",
       "      <td>-18.438914</td>\n",
       "      <td>0.052471</td>\n",
       "      <td>0.172938</td>\n",
       "      <td>0.000001</td>\n",
       "      <td>0.295799</td>\n",
       "      <td>0.372578</td>\n",
       "      <td>299297.9760</td>\n",
       "      <td>0.389867</td>\n",
       "    </tr>\n",
       "  </tbody>\n",
       "</table>\n",
       "<p>419331 rows × 10 columns</p>\n",
       "</div>"
      ],
      "text/plain": [
       "            id  RhythmScore  AudioLoudness  VocalContent  AcousticQuality  \\\n",
       "129122  129122     0.781405      -4.356901      0.023500         0.000005   \n",
       "493077  493077     0.532378      -8.908300      0.023500         0.012917   \n",
       "457814  457814     0.912855     -14.355710      0.120433         0.372479   \n",
       "411024  411024     0.471765      -5.637425      0.043413         0.504548   \n",
       "397112  397112     0.975000     -11.681864      0.031886         0.086502   \n",
       "...        ...          ...            ...           ...              ...   \n",
       "259178  259178     0.683068      -3.998962      0.023500         0.309681   \n",
       "365838  365838     0.723214      -1.357000      0.139675         0.726960   \n",
       "131932  131932     0.553987     -11.086472      0.051913         0.000005   \n",
       "146867  146867     0.975000     -16.016737      0.070721         0.226696   \n",
       "121958  121958     0.563534     -18.438914      0.052471         0.172938   \n",
       "\n",
       "        InstrumentalScore  LivePerformanceLikelihood  MoodScore  \\\n",
       "129122           0.000001                   0.040420   0.682512   \n",
       "493077           0.032240                   0.076140   0.483868   \n",
       "457814           0.127346                   0.024300   0.440126   \n",
       "411024           0.162065                   0.065687   0.485008   \n",
       "397112           0.000001                   0.308907   0.682415   \n",
       "...                   ...                        ...        ...   \n",
       "259178           0.389897                   0.243051   0.734752   \n",
       "365838           0.258900                   0.296822   0.929107   \n",
       "131932           0.051336                   0.262526   0.534394   \n",
       "146867           0.000001                   0.172801   0.959661   \n",
       "121958           0.000001                   0.295799   0.372578   \n",
       "\n",
       "        TrackDurationMs    Energy  \n",
       "129122      241538.2567  0.541800  \n",
       "493077      180583.7425  0.994667  \n",
       "457814      291223.4702  0.566267  \n",
       "411024      313870.0566  0.492067  \n",
       "397112      243435.6405  0.453667  \n",
       "...                 ...       ...  \n",
       "259178      223320.0386  0.295467  \n",
       "365838      316878.0301  0.087733  \n",
       "131932      235567.5310  0.761400  \n",
       "146867      264160.7161  0.073467  \n",
       "121958      299297.9760  0.389867  \n",
       "\n",
       "[419331 rows x 10 columns]"
      ]
     },
     "execution_count": 20,
     "metadata": {},
     "output_type": "execute_result"
    }
   ],
   "source": [
    "X_train"
   ]
  },
  {
   "cell_type": "code",
   "execution_count": 21,
   "id": "ddc36f7f-40ec-4900-bccc-43d709800e6e",
   "metadata": {},
   "outputs": [
    {
     "data": {
      "text/plain": [
       "Index(['id', 'RhythmScore', 'AudioLoudness', 'VocalContent', 'AcousticQuality',\n",
       "       'InstrumentalScore', 'LivePerformanceLikelihood', 'MoodScore',\n",
       "       'TrackDurationMs', 'Energy', 'BeatsPerMinute'],\n",
       "      dtype='object')"
      ]
     },
     "execution_count": 21,
     "metadata": {},
     "output_type": "execute_result"
    }
   ],
   "source": [
    "df.columns"
   ]
  },
  {
   "cell_type": "code",
   "execution_count": 22,
   "id": "fa0d3657-e658-448e-bd23-fc99a3a09db1",
   "metadata": {},
   "outputs": [
    {
     "data": {
      "text/plain": [
       "-0.19028848333290044"
      ]
     },
     "execution_count": 22,
     "metadata": {},
     "output_type": "execute_result"
    }
   ],
   "source": [
    "skewness = stats.skew(X_train['TrackDurationMs'])\n",
    "skewness"
   ]
  },
  {
   "cell_type": "code",
   "execution_count": 23,
   "id": "7aa30b2a-a3e3-4534-8564-3376cc73829c",
   "metadata": {},
   "outputs": [
    {
     "data": {
      "text/plain": [
       "((array([-4.65083335, -4.46452441, -4.36359597, ...,  4.36359597,\n",
       "          4.46452441,  4.65083335]),\n",
       "  array([ 63973.    ,  63973.    ,  63973.    , ..., 445901.535 ,\n",
       "         448634.3222, 464723.2281])),\n",
       " (59165.15246068653, 241859.84246664622, 0.9965492191826035))"
      ]
     },
     "execution_count": 23,
     "metadata": {},
     "output_type": "execute_result"
    },
    {
     "data": {
      "image/png": "[encoded data removed]",
      "text/plain": [
       "<Figure size 640x480 with 1 Axes>"
      ]
     },
     "metadata": {},
     "output_type": "display_data"
    }
   ],
   "source": [
    "stats.probplot(X_train['TrackDurationMs'], dist  = \"norm\", plot = plt)"
   ]
  },
  {
   "cell_type": "code",
   "execution_count": 24,
   "id": "e65d1a41-7692-4c37-97e4-7e14851d8a09",
   "metadata": {},
   "outputs": [
    {
     "data": {
      "image/png": "[encoded data removed]",
      "text/plain": [
       "<Figure size 640x480 with 1 Axes>"
      ]
     },
     "metadata": {},
     "output_type": "display_data"
    }
   ],
   "source": [
    "plt.boxplot(df['TrackDurationMs'])\n",
    "plt.title(\"TrackDuartionMs\")\n",
    "plt.ylabel(\"Values\")\n",
    "plt.show()"
   ]
  },
  {
   "cell_type": "code",
   "execution_count": 25,
   "id": "6328218d-330a-47ca-9db2-5327ebd6e23c",
   "metadata": {},
   "outputs": [
    {
     "data": {
      "text/plain": [
       "(63973.0, 207099.876625, 243684.05815, 281851.6585)"
      ]
     },
     "execution_count": 25,
     "metadata": {},
     "output_type": "execute_result"
    }
   ],
   "source": [
    "import numpy as np\n",
    "percntile25 = np.percentile(df['TrackDurationMs'], 25)\n",
    "percentile50 = np.percentile(df['TrackDurationMs'], 50)\n",
    "percentile75 = np.percentile(df['TrackDurationMs'], 75)\n",
    "mini = np.min(df['TrackDurationMs'])\n",
    "mini, percntile25, percentile50, percentile75"
   ]
  },
  {
   "cell_type": "code",
   "execution_count": 26,
   "id": "ac0e2f0b-9135-4948-a6d1-8d3609efaf45",
   "metadata": {},
   "outputs": [],
   "source": [
    "count = 0\n",
    "\n",
    "data = df['TrackDurationMs']\n",
    "\n",
    "for values in data:\n",
    "    if values <= 207099.876625:\n",
    "        count = count + 1\n"
   ]
  },
  {
   "cell_type": "code",
   "execution_count": 27,
   "id": "b1910a77-73b6-4659-946a-c3ff4fa7325b",
   "metadata": {},
   "outputs": [],
   "source": [
    "# TrackDuratin is skewed so we apply square transformation on it since it's left skewed.\n",
    "\n",
    "X_train_transform = X_train\n",
    "X_train_transform['TrackDurationMs'] = X_train['TrackDurationMs']**2\n"
   ]
  },
  {
   "cell_type": "code",
   "execution_count": 28,
   "id": "5a62676c-db99-4016-9fb3-655bd5bcdfaf",
   "metadata": {},
   "outputs": [
    {
     "data": {
      "text/plain": [
       "((array([-4.65083335, -4.46452441, -4.36359597, ...,  4.36359597,\n",
       "          4.46452441,  4.65083335]),\n",
       "  array([4.09254473e+09, 4.09254473e+09, 4.09254473e+09, ...,\n",
       "         1.98828179e+11, 2.01272755e+11, 2.15967679e+11])),\n",
       " (28179589265.793324, 62020901092.4812, 0.9904544582465042))"
      ]
     },
     "execution_count": 28,
     "metadata": {},
     "output_type": "execute_result"
    },
    {
     "data": {
      "image/png": "[encoded data removed]",
      "text/plain": [
       "<Figure size 640x480 with 1 Axes>"
      ]
     },
     "metadata": {},
     "output_type": "display_data"
    }
   ],
   "source": [
    " stats.probplot(X_train_transform['TrackDurationMs'], dist  = \"norm\", plot = plt)"
   ]
  },
  {
   "cell_type": "code",
   "execution_count": 29,
   "id": "a0842baf-59e9-42bf-9afe-94f677413517",
   "metadata": {},
   "outputs": [
    {
     "data": {
      "text/plain": [
       "129122    5.834073e+10\n",
       "493077    3.261049e+10\n",
       "457814    8.481111e+10\n",
       "411024    9.851441e+10\n",
       "397112    5.926091e+10\n",
       "              ...     \n",
       "259178    4.987184e+10\n",
       "365838    1.004117e+11\n",
       "131932    5.549206e+10\n",
       "146867    6.978088e+10\n",
       "121958    8.957928e+10\n",
       "Name: TrackDurationMs, Length: 419331, dtype: float64"
      ]
     },
     "execution_count": 29,
     "metadata": {},
     "output_type": "execute_result"
    }
   ],
   "source": [
    "X_train_transform['TrackDurationMs']"
   ]
  },
  {
   "cell_type": "code",
   "execution_count": 30,
   "id": "10cf898a-5f2b-4cf6-b89f-125aa3179438",
   "metadata": {},
   "outputs": [
    {
     "data": {
      "text/plain": [
       "0.46889568697210204"
      ]
     },
     "execution_count": 30,
     "metadata": {},
     "output_type": "execute_result"
    }
   ],
   "source": [
    "# We can check the skewness of this series\n",
    "skewness = stats.skew(X_train_transform['TrackDurationMs'])\n",
    "skewness"
   ]
  },
  {
   "cell_type": "code",
   "execution_count": 31,
   "id": "e7a77efa-cf2d-430c-8961-9520c7c89c54",
   "metadata": {},
   "outputs": [],
   "source": [
    "# Since the Series is more right skewed, we apply log transform on it\n",
    "arr = np.log(X_train_transform['TrackDurationMs'])\n",
    "arr = pd.DataFrame(arr)"
   ]
  },
  {
   "cell_type": "code",
   "execution_count": 32,
   "id": "fd111a9a-9ef7-4098-9156-0a298c8abf22",
   "metadata": {},
   "outputs": [
    {
     "data": {
      "text/html": [
       "<div>\n",
       "<style scoped>\n",
       "    .dataframe tbody tr th:only-of-type {\n",
       "        vertical-align: middle;\n",
       "    }\n",
       "\n",
       "    .dataframe tbody tr th {\n",
       "        vertical-align: top;\n",
       "    }\n",
       "\n",
       "    .dataframe thead th {\n",
       "        text-align: right;\n",
       "    }\n",
       "</style>\n",
       "<table border=\"1\" class=\"dataframe\">\n",
       "  <thead>\n",
       "    <tr style=\"text-align: right;\">\n",
       "      <th></th>\n",
       "      <th>TrackDurationMs</th>\n",
       "    </tr>\n",
       "  </thead>\n",
       "  <tbody>\n",
       "    <tr>\n",
       "      <th>129122</th>\n",
       "      <td>24.789566</td>\n",
       "    </tr>\n",
       "    <tr>\n",
       "      <th>493077</th>\n",
       "      <td>24.207900</td>\n",
       "    </tr>\n",
       "    <tr>\n",
       "      <th>457814</th>\n",
       "      <td>25.163692</td>\n",
       "    </tr>\n",
       "    <tr>\n",
       "      <th>411024</th>\n",
       "      <td>25.313469</td>\n",
       "    </tr>\n",
       "    <tr>\n",
       "      <th>397112</th>\n",
       "      <td>24.805216</td>\n",
       "    </tr>\n",
       "    <tr>\n",
       "      <th>...</th>\n",
       "      <td>...</td>\n",
       "    </tr>\n",
       "    <tr>\n",
       "      <th>259178</th>\n",
       "      <td>24.632722</td>\n",
       "    </tr>\n",
       "    <tr>\n",
       "      <th>365838</th>\n",
       "      <td>25.332544</td>\n",
       "    </tr>\n",
       "    <tr>\n",
       "      <th>131932</th>\n",
       "      <td>24.739506</td>\n",
       "    </tr>\n",
       "    <tr>\n",
       "      <th>146867</th>\n",
       "      <td>24.968626</td>\n",
       "    </tr>\n",
       "    <tr>\n",
       "      <th>121958</th>\n",
       "      <td>25.218390</td>\n",
       "    </tr>\n",
       "  </tbody>\n",
       "</table>\n",
       "<p>419331 rows × 1 columns</p>\n",
       "</div>"
      ],
      "text/plain": [
       "        TrackDurationMs\n",
       "129122        24.789566\n",
       "493077        24.207900\n",
       "457814        25.163692\n",
       "411024        25.313469\n",
       "397112        24.805216\n",
       "...                 ...\n",
       "259178        24.632722\n",
       "365838        25.332544\n",
       "131932        24.739506\n",
       "146867        24.968626\n",
       "121958        25.218390\n",
       "\n",
       "[419331 rows x 1 columns]"
      ]
     },
     "execution_count": 32,
     "metadata": {},
     "output_type": "execute_result"
    }
   ],
   "source": [
    "arr"
   ]
  },
  {
   "cell_type": "code",
   "execution_count": 33,
   "id": "79a79881-7e3c-4b7c-966f-5cb9427a97d9",
   "metadata": {},
   "outputs": [],
   "source": [
    "X_train_transform['TrackDurationMs'] = arr \n"
   ]
  },
  {
   "cell_type": "code",
   "execution_count": 34,
   "id": "4dd54ebd-8c41-478a-be26-35221fdce08a",
   "metadata": {},
   "outputs": [
    {
     "data": {
      "text/plain": [
       "-1.1860007739988159"
      ]
     },
     "execution_count": 34,
     "metadata": {},
     "output_type": "execute_result"
    }
   ],
   "source": [
    "skewness = stats.skew(X_train_transform['TrackDurationMs'])\n",
    "skewness"
   ]
  },
  {
   "cell_type": "code",
   "execution_count": 36,
   "id": "a5483729-ffd8-4105-ad8d-311370d0947c",
   "metadata": {},
   "outputs": [
    {
     "data": {
      "text/plain": [
       "((array([-4.65083335, -4.46452441, -4.36359597, ...,  4.36359597,\n",
       "          4.46452441,  4.65083335]),\n",
       "  array([22.1324328 , 22.1324328 , 22.1324328 , ..., 26.01570687,\n",
       "         26.02792682, 26.0983946 ])),\n",
       " (0.535453820181585, 24.722539311720542, 0.9649045435812234))"
      ]
     },
     "execution_count": 36,
     "metadata": {},
     "output_type": "execute_result"
    },
    {
     "data": {
      "image/png": "[encoded data removed]",
      "text/plain": [
       "<Figure size 640x480 with 1 Axes>"
      ]
     },
     "metadata": {},
     "output_type": "display_data"
    }
   ],
   "source": [
    "# Lets plot the QQ plot and then see what's the curve now like\n",
    "stats.probplot(X_train_transform['TrackDurationMs'], dist  = \"norm\", plot = plt)"
   ]
  },
  {
   "cell_type": "code",
   "execution_count": 41,
   "id": "24a29930-ccd4-483f-b908-02e2e51adccf",
   "metadata": {},
   "outputs": [],
   "source": [
    "from sklearn.preprocessing import MinMaxScaler\n",
    "scaler = MinMaxScaler()\n",
    "\n",
    "arr1 = scaler.fit_transform(X_train_transform[['TrackDurationMs']])\n",
    "\n",
    "arr1 = pd.DataFrame(arr1)\n",
    "\n",
    "arr2 = scaler.transform(X_test[['TrackDurationMs']])\n",
    "\n",
    "arr2 = pd.DataFrame(arr2)\n"
   ]
  },
  {
   "cell_type": "code",
   "execution_count": 43,
   "id": "b50f86c6-6a6b-4563-b218-a458dae017b1",
   "metadata": {},
   "outputs": [],
   "source": [
    "X_train_transform['TrackDurationMs'] = arr1\n",
    "X_test['TrackDurationMs'] = arr2"
   ]
  },
  {
   "cell_type": "code",
   "execution_count": 46,
   "id": "55bfb0de-e573-4868-8699-c18a30bbb8dd",
   "metadata": {},
   "outputs": [
    {
     "data": {
      "text/plain": [
       "id                               0\n",
       "RhythmScore                      0\n",
       "AudioLoudness                    0\n",
       "VocalContent                     0\n",
       "AcousticQuality                  0\n",
       "InstrumentalScore                0\n",
       "LivePerformanceLikelihood        0\n",
       "MoodScore                        0\n",
       "TrackDurationMs              83817\n",
       "Energy                           0\n",
       "dtype: int64"
      ]
     },
     "execution_count": 46,
     "metadata": {},
     "output_type": "execute_result"
    }
   ],
   "source": [
    "X_train_transform.isnull().sum()"
   ]
  },
  {
   "cell_type": "code",
   "execution_count": 47,
   "id": "12bffcaf-ceaf-4f19-9ad7-c18ee1df7817",
   "metadata": {},
   "outputs": [
    {
     "data": {
      "text/plain": [
       "id                           0\n",
       "RhythmScore                  0\n",
       "AudioLoudness                0\n",
       "VocalContent                 0\n",
       "AcousticQuality              0\n",
       "InstrumentalScore            0\n",
       "LivePerformanceLikelihood    0\n",
       "MoodScore                    0\n",
       "TrackDurationMs              0\n",
       "Energy                       0\n",
       "BeatsPerMinute               0\n",
       "dtype: int64"
      ]
     },
     "execution_count": 47,
     "metadata": {},
     "output_type": "execute_result"
    }
   ],
   "source": [
    "df.isnull().sum()"
   ]
  },
  {
   "cell_type": "code",
   "execution_count": null,
   "id": "35508be7-108d-4ee0-9fe9-c823a2177c3c",
   "metadata": {},
   "outputs": [],
   "source": []
  }
 ],
 "metadata": {
  "kernelspec": {
   "display_name": "Python 3 (ipykernel)",
   "language": "python",
   "name": "python3"
  },
  "language_info": {
   "codemirror_mode": {
    "name": "ipython",
    "version": 3
   },
   "file_extension": ".py",
   "mimetype": "text/x-python",
   "name": "python",
   "nbconvert_exporter": "python",
   "pygments_lexer": "ipython3",
   "version": "3.12.7"
  }
 },
 "nbformat": 4,
 "nbformat_minor": 5
}
